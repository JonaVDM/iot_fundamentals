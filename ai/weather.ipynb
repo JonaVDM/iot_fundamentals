{
 "cells": [
  {
   "cell_type": "markdown",
   "metadata": {},
   "source": [
    "# Weather AI\n",
    "\n",
    "My own attempt to making an AI, this is the first itteration where we look if it is raining right now or not. Kinda useless but useful for me learn."
   ]
  },
  {
   "cell_type": "markdown",
   "metadata": {},
   "source": [
    "## Getting data\n",
    "\n",
    "The training data has been collected from KNMI via https://www.daggegevens.knmi.nl/klimatologie/uurgegevens (thanks William for the link!). The raw data had some data missing in the rainfall column, the rows with missing values have been deleted."
   ]
  },
  {
   "cell_type": "code",
   "execution_count": null,
   "metadata": {},
   "outputs": [],
   "source": [
    "import pandas as pd"
   ]
  },
  {
   "cell_type": "code",
   "execution_count": null,
   "metadata": {},
   "outputs": [],
   "source": [
    "raw_data = pd.read_csv('data/knmi.csv')\n",
    "\n",
    "# Drop columns with missing values\n",
    "raw_data.dropna(inplace=True)\n",
    "\n",
    "# Replace rainfall column is right now a float (for no reason), lets change that to a int.\n",
    "raw_data['rainfall'] = raw_data['rainfall'].astype(int);"
   ]
  },
  {
   "cell_type": "markdown",
   "metadata": {},
   "source": [
    "### Looking data (can be skipped)"
   ]
  },
  {
   "cell_type": "code",
   "execution_count": null,
   "metadata": {},
   "outputs": [],
   "source": [
    "raw_data.head()"
   ]
  },
  {
   "cell_type": "code",
   "execution_count": null,
   "metadata": {},
   "outputs": [],
   "source": [
    "raw_data.describe().T"
   ]
  },
  {
   "cell_type": "code",
   "execution_count": null,
   "metadata": {},
   "outputs": [],
   "source": [
    "raw_data.info()"
   ]
  },
  {
   "cell_type": "markdown",
   "metadata": {},
   "source": [
    "## Preping data"
   ]
  },
  {
   "cell_type": "code",
   "execution_count": null,
   "metadata": {},
   "outputs": [],
   "source": [
    "from sklearn.model_selection import train_test_split"
   ]
  },
  {
   "cell_type": "code",
   "execution_count": null,
   "metadata": {},
   "outputs": [],
   "source": [
    "features = raw_data.drop(['rainfall', 'station', 'precipitation_duration', 'precipitation_amount', 'date'], axis=1)\n",
    "target = raw_data['rainfall']\n",
    "\n",
    "features.head()"
   ]
  },
  {
   "cell_type": "code",
   "execution_count": null,
   "metadata": {},
   "outputs": [],
   "source": [
    "x_train, x_test, y_train, y_test = train_test_split(features, target, test_size=0.1, random_state=56)\n",
    "\n",
    "x_train.shape, x_test.shape"
   ]
  },
  {
   "cell_type": "markdown",
   "metadata": {},
   "source": [
    "## Creating the model"
   ]
  },
  {
   "cell_type": "code",
   "execution_count": null,
   "metadata": {},
   "outputs": [],
   "source": [
    "import tensorflow as tf\n",
    "\n",
    "layers = tf.keras.layers"
   ]
  },
  {
   "cell_type": "code",
   "execution_count": null,
   "metadata": {},
   "outputs": [],
   "source": [
    "model = tf.keras.Sequential([\n",
    "    layers.Input(shape=(4,), dtype=tf.int32),\n",
    "    layers.Dense(16, activation='relu'),\n",
    "    layers.Dense(8, activation='relu'),\n",
    "    layers.Dense(1, activation='sigmoid')\n",
    "])\n",
    "\n",
    "model.compile(optimizer='adam', loss='binary_crossentropy', metrics=['accuracy'])\n",
    "\n",
    "model.summary()"
   ]
  },
  {
   "cell_type": "code",
   "execution_count": null,
   "metadata": {},
   "outputs": [],
   "source": [
    "model.fit(\n",
    "    x_train, y_train,\n",
    "    epochs=50,\n",
    "    verbose=1,\n",
    "    validation_data=(x_test, y_test)\n",
    ")"
   ]
  },
  {
   "cell_type": "code",
   "execution_count": null,
   "metadata": {},
   "outputs": [],
   "source": [
    "model.evaluate(x_test, y_test)"
   ]
  },
  {
   "cell_type": "code",
   "execution_count": null,
   "metadata": {},
   "outputs": [],
   "source": [
    "model.save(\"model.keras\")"
   ]
  },
  {
   "cell_type": "markdown",
   "metadata": {},
   "source": [
    "## Test Results\n",
    "\n",
    "### Base case\n",
    "```\n",
    "Training data: hour temperature pressure humidity\n",
    "network:\n",
    "  layers.Input(shape=(4,), dtype=tf.int32),\n",
    "  layers.Dense(16, activation='relu'),\n",
    "  layers.Dense(8, activation='relu'),\n",
    "  layers.Dense(1, activation='sigmoid')\n",
    "```\n",
    "\n",
    "### First test\n",
    "This was the basecase, which ended with an accuracy of ~79% (0.7860)\n",
    "\n",
    "### Second test\n",
    "Another layer of 16 was added, the network now looks like:\n",
    "```\n",
    "layers.Input(shape=(4,), dtype=tf.int32),\n",
    "layers.Dense(16, activation='relu'),\n",
    "layers.Dense(16, activation='relu'),\n",
    "layers.Dense(8, activation='relu'),\n",
    "layers.Dense(1, activation='sigmoid')\n",
    "```\n",
    "This test ended with the result of exactly the same\n",
    "\n",
    "### Third test\n",
    "Move the 8 between the 16s, and the result was more of the same. Looking at the training also made me conclude that adding more epoch is not going to have an effect.\n",
    "\n",
    "### Fourth test\n",
    "Removing time from the model, did had once again, no effect. For fun I also added the date to see if it had any effect, and this once again had no effect. I've decided for now to leave the time in but leave the date out. At this point I also went back to the base case. And I found that now from epoch 3 it was at the max of ~79%.\n",
    "\n",
    "### Test 5\n",
    "Trying out different lose functions"
   ]
  },
  {
   "cell_type": "markdown",
   "metadata": {},
   "source": [
    "## Mass testing"
   ]
  },
  {
   "cell_type": "code",
   "execution_count": null,
   "metadata": {},
   "outputs": [],
   "source": [
    "# losses = [\n",
    "#     'BinaryCrossentropy',\n",
    "#     'CategoricalCrossentropy',\n",
    "#     'SparseCategoricalCrossentropy',\n",
    "#     'Poisson',\n",
    "#     'KLDivergence',\n",
    "#     'MeanSquaredError',\n",
    "#     'MeanAbsoluteError',\n",
    "#     'MeanAbsolutePercentageError',\n",
    "#     'MeanSquaredLogarithmicError',\n",
    "#     'CosineSimilarity',\n",
    "#     'Huber',\n",
    "#     'LogCosh',\n",
    "#     'Hinge',\n",
    "#     'SquaredHinge',\n",
    "#     'CategoricalHinge'\n",
    "# ]\n",
    "\n",
    "# for thing in losses:\n",
    "#     try:\n",
    "#         model = tf.keras.Sequential([\n",
    "#             layers.Input(shape=(4,), dtype=tf.int32),\n",
    "#             layers.Dense(16, activation='relu'),\n",
    "#             layers.Dense(8, activation='relu'),\n",
    "#             layers.Dense(1, activation='sigmoid')\n",
    "#         ])\n",
    "\n",
    "#         model.compile(optimizer='adam', loss='thing', metrics=['accuracy'])\n",
    "#         model.fit(\n",
    "#             x_train, y_train,\n",
    "#             epochs=50,\n",
    "#             verbose=0,\n",
    "#             validation_data=(x_test, y_test)\n",
    "#         )\n",
    "\n",
    "#         print(thing, \"=\", model.evaluate(x_test, y_test, verbose=0))\n",
    "#     except:\n",
    "#         print(thing, \"did not work...\")\n"
   ]
  },
  {
   "cell_type": "code",
   "execution_count": null,
   "metadata": {},
   "outputs": [],
   "source": [
    "# methods = [\n",
    "#     'elu',\n",
    "#     'exponential',\n",
    "#     'gelu',\n",
    "#     'hard_sigmoid',\n",
    "#     'linear',\n",
    "#     'mish',\n",
    "#     'relu',\n",
    "#     'selu',\n",
    "#     'sigmoid',\n",
    "#     'softmax',\n",
    "#     'softplus',\n",
    "#     'softsign',\n",
    "#     'swish',\n",
    "#     'tanh'\n",
    "# ]\n",
    "\n",
    "# for thing in methods:\n",
    "#     try:\n",
    "#         model = tf.keras.Sequential([\n",
    "#             layers.Input(shape=(4,), dtype=tf.int32),\n",
    "#             layers.Dense(16, activation=thing),\n",
    "#             layers.Dense(8, activation=thing),\n",
    "#             layers.Dense(1, activation='sigmoid')\n",
    "#         ])\n",
    "\n",
    "#         model.compile(optimizer='adam', loss='binary_crossentropy', metrics=['accuracy'])\n",
    "#         model.fit(\n",
    "#             x_train, y_train,\n",
    "#             epochs=50,\n",
    "#             verbose=0,\n",
    "#             validation_data=(x_test, y_test)\n",
    "#         )\n",
    "\n",
    "#         print(thing, \"=\", model.evaluate(x_test, y_test, verbose=0))\n",
    "#     except:\n",
    "#         print(thing, \"did not work...\")\n"
   ]
  }
 ],
 "metadata": {
  "kernelspec": {
   "display_name": "school_ai",
   "language": "python",
   "name": "python3"
  },
  "language_info": {
   "codemirror_mode": {
    "name": "ipython",
    "version": 3
   },
   "file_extension": ".py",
   "mimetype": "text/x-python",
   "name": "python",
   "nbconvert_exporter": "python",
   "pygments_lexer": "ipython3",
   "version": "3.11.5"
  }
 },
 "nbformat": 4,
 "nbformat_minor": 2
}
